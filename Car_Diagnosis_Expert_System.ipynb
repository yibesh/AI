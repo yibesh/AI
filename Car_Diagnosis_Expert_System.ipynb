{
 "cells": [
  {
   "cell_type": "code",
   "execution_count": 1,
   "id": "3a1dbfbc-f713-4ef8-af3d-2957a85e13a7",
   "metadata": {},
   "outputs": [
    {
     "name": "stdout",
     "output_type": "stream",
     "text": [
      "Welcome to the Car Diagnosis Expert System!\n"
     ]
    },
    {
     "name": "stdin",
     "output_type": "stream",
     "text": [
      "Does the car fail to start? (yes/no):  yes\n",
      "Is the battery light on? (yes/no):  no\n"
     ]
    },
    {
     "name": "stdout",
     "output_type": "stream",
     "text": [
      "Suggestion: It might be an ignition system issue.\n",
      "Explanation: If the battery light is off but the car won't start, the issue could be with the ignition or starter system.\n"
     ]
    },
    {
     "name": "stdin",
     "output_type": "stream",
     "text": [
      "Is the car overheating? (yes/no):  yes\n"
     ]
    },
    {
     "name": "stdout",
     "output_type": "stream",
     "text": [
      "Suggestion: Check the coolant level and radiator.\n",
      "Explanation: Overheating is often caused by low coolant or a problem with the radiator.\n"
     ]
    },
    {
     "name": "stdin",
     "output_type": "stream",
     "text": [
      "Do you hear any strange noises? (yes/no):  yes\n",
      "Is the noise coming from the front or back? (front/back):  front\n"
     ]
    },
    {
     "name": "stdout",
     "output_type": "stream",
     "text": [
      "Suggestion: Check the engine and timing belt.\n",
      "Explanation: Strange noises from the front could indicate issues with the engine or timing belt.\n",
      "Diagnosis complete. Thank you for using the expert system!\n"
     ]
    }
   ],
   "source": [
    "def car_diagnosis_with_explanation():\n",
    "    print(\"Welcome to the Car Diagnosis Expert System!\")\n",
    "    \n",
    "    wont_start = input(\"Does the car fail to start? (yes/no): \").strip().lower()\n",
    "    \n",
    "    if wont_start == 'yes':\n",
    "        battery_light = input(\"Is the battery light on? (yes/no): \").strip().lower()\n",
    "        if battery_light == 'yes':\n",
    "            print(\"Suggestion: It might be a battery issue.\")\n",
    "            print(\"Explanation: If the battery light is on and the car won't start, it's likely due to a weak or dead battery.\")\n",
    "        else:\n",
    "            print(\"Suggestion: It might be an ignition system issue.\")\n",
    "            print(\"Explanation: If the battery light is off but the car won't start, the issue could be with the ignition or starter system.\")\n",
    "    \n",
    "    overheating = input(\"Is the car overheating? (yes/no): \").strip().lower()\n",
    "    if overheating == 'yes':\n",
    "        print(\"Suggestion: Check the coolant level and radiator.\")\n",
    "        print(\"Explanation: Overheating is often caused by low coolant or a problem with the radiator.\")\n",
    "    \n",
    "    strange_noise = input(\"Do you hear any strange noises? (yes/no): \").strip().lower()\n",
    "    if strange_noise == 'yes':\n",
    "        noise_location = input(\"Is the noise coming from the front or back? (front/back): \").strip().lower()\n",
    "        if noise_location == 'front':\n",
    "            print(\"Suggestion: Check the engine and timing belt.\")\n",
    "            print(\"Explanation: Strange noises from the front could indicate issues with the engine or timing belt.\")\n",
    "        elif noise_location == 'back':\n",
    "            print(\"Suggestion: Check the exhaust system or rear suspension.\")\n",
    "            print(\"Explanation: Noises from the back often relate to the exhaust system or rear suspension.\")\n",
    "    \n",
    "    print(\"Diagnosis complete. Thank you for using the expert system!\")\n",
    "\n",
    "# Run the expert system with explanations\n",
    "car_diagnosis_with_explanation()"
   ]
  },
  {
   "cell_type": "code",
   "execution_count": null,
   "id": "d3b765e9-1d8b-4895-9a09-091ef6e0bc44",
   "metadata": {},
   "outputs": [],
   "source": []
  }
 ],
 "metadata": {
  "kernelspec": {
   "display_name": "Python 3 (ipykernel)",
   "language": "python",
   "name": "python3"
  },
  "language_info": {
   "codemirror_mode": {
    "name": "ipython",
    "version": 3
   },
   "file_extension": ".py",
   "mimetype": "text/x-python",
   "name": "python",
   "nbconvert_exporter": "python",
   "pygments_lexer": "ipython3",
   "version": "3.11.7"
  }
 },
 "nbformat": 4,
 "nbformat_minor": 5
}
