{
 "cells": [
  {
   "cell_type": "markdown",
   "id": "8616bf99-96f8-4edd-be2e-b87ca2b039e8",
   "metadata": {},
   "source": [
    "# Neural Network Model "
   ]
  },
  {
   "cell_type": "markdown",
   "id": "75ac36fb-acbb-49e7-b659-046c26b6a774",
   "metadata": {},
   "source": [
    "### 1. Data Simulation (if no real data available)"
   ]
  },
  {
   "cell_type": "code",
   "execution_count": 8,
   "id": "a055b88f-c2b9-46e9-a948-c6c9f369c6b6",
   "metadata": {},
   "outputs": [
    {
     "name": "stdout",
     "output_type": "stream",
     "text": [
      "       FBG1      FBG2      FBG3    Target\n",
      "0  0.374540  0.950714  0.731994  7.367187\n",
      "1  0.598658  0.156019  0.155995  2.507046\n",
      "2  0.058084  0.866176  0.601115  5.788628\n",
      "3  0.708073  0.020584  0.969910  6.190852\n",
      "4  0.832443  0.212339  0.181825  3.332222\n",
      "Data successfully written to 'fbg_sensor_data.csv'\n"
     ]
    }
   ],
   "source": [
    "# Import necessary libraries\n",
    "import numpy as np\n",
    "import pandas as pd\n",
    "import tensorflow as tf\n",
    "from sklearn.model_selection import train_test_split\n",
    "from sklearn.preprocessing import StandardScaler\n",
    "import matplotlib.pyplot as plt\n",
    "\n",
    "# Simulate some FBG sensor data\n",
    "# X represents some feature (e.g., sensor response) and y represents a target (e.g., temperature or strain)\n",
    "np.random.seed(42)\n",
    "X = np.random.rand(1000, 3)  # Let's assume 3 features from 3 FBG sensors\n",
    "y = 2 * X[:, 0] + 3 * X[:, 1] + 5 * X[:, 2] + np.random.normal(0, 0.1, 1000)  # Simulated target (e.g., temperature)\n",
    "\n",
    "# Convert to DataFrame for better understanding\n",
    "df = pd.DataFrame(X, columns=['FBG1', 'FBG2', 'FBG3'])\n",
    "df['Target'] = y\n",
    "\n",
    "# Display first few rows\n",
    "print(df.head())\n",
    "\n",
    "# Write the generated data to a CSV file\n",
    "df.to_csv('fbg_sensor_data.csv', index=False)\n",
    "\n",
    "print(\"Data successfully written to 'fbg_sensor_data.csv'\")"
   ]
  },
  {
   "cell_type": "markdown",
   "id": "614b517d-510f-457c-9076-c8bcf96d336c",
   "metadata": {},
   "source": [
    "### 2. Data Preprocessing"
   ]
  },
  {
   "cell_type": "code",
   "execution_count": 4,
   "id": "f581778f-702d-4b06-a280-057969a0e9d8",
   "metadata": {},
   "outputs": [],
   "source": [
    "# Split the data into features (X) and target (y)\n",
    "X = df.drop('Target', axis=1).values  # Features are sensor readings (e.g., FBG wavelengths)\n",
    "y = df['Target'].values  # Target is the physical parameter we want to predict (e.g., temperature or strain)\n",
    "\n",
    "# Split the data into training and testing sets\n",
    "X_train, X_test, y_train, y_test = train_test_split(X, y, test_size=0.2, random_state=42)\n",
    "\n",
    "# Normalize the feature data (important for neural networks)\n",
    "scaler = StandardScaler()\n",
    "X_train = scaler.fit_transform(X_train)\n",
    "X_test = scaler.transform(X_test)\n"
   ]
  },
  {
   "cell_type": "markdown",
   "id": "5b652981-d54c-437d-acbc-2af5fbf7c33e",
   "metadata": {},
   "source": [
    "### 3. Neural Network Model for Prediction"
   ]
  },
  {
   "cell_type": "code",
   "execution_count": 5,
   "id": "1e3ef4b5-ebc0-4731-9120-03d783243822",
   "metadata": {},
   "outputs": [
    {
     "name": "stdout",
     "output_type": "stream",
     "text": [
      "Epoch 1/100\n"
     ]
    },
    {
     "name": "stderr",
     "output_type": "stream",
     "text": [
      "C:\\Users\\User-4603-1\\anaconda3\\Lib\\site-packages\\keras\\src\\layers\\core\\dense.py:88: UserWarning: Do not pass an `input_shape`/`input_dim` argument to a layer. When using Sequential models, prefer using an `Input(shape)` object as the first layer in the model instead.\n",
      "  super().__init__(activity_regularizer=activity_regularizer, **kwargs)\n"
     ]
    },
    {
     "name": "stdout",
     "output_type": "stream",
     "text": [
      "\u001b[1m20/20\u001b[0m \u001b[32m━━━━━━━━━━━━━━━━━━━━\u001b[0m\u001b[37m\u001b[0m \u001b[1m1s\u001b[0m 6ms/step - loss: 25.6183 - mae: 4.6930 - val_loss: 16.5293 - val_mae: 3.6948\n",
      "Epoch 2/100\n",
      "\u001b[1m20/20\u001b[0m \u001b[32m━━━━━━━━━━━━━━━━━━━━\u001b[0m\u001b[37m\u001b[0m \u001b[1m0s\u001b[0m 1ms/step - loss: 16.1417 - mae: 3.6434 - val_loss: 7.4708 - val_mae: 2.3768\n",
      "Epoch 3/100\n",
      "\u001b[1m20/20\u001b[0m \u001b[32m━━━━━━━━━━━━━━━━━━━━\u001b[0m\u001b[37m\u001b[0m \u001b[1m0s\u001b[0m 1ms/step - loss: 6.5152 - mae: 2.2111 - val_loss: 2.4850 - val_mae: 1.3391\n",
      "Epoch 4/100\n",
      "\u001b[1m20/20\u001b[0m \u001b[32m━━━━━━━━━━━━━━━━━━━━\u001b[0m\u001b[37m\u001b[0m \u001b[1m0s\u001b[0m 1ms/step - loss: 1.8347 - mae: 1.0931 - val_loss: 1.3638 - val_mae: 0.9647\n",
      "Epoch 5/100\n",
      "\u001b[1m20/20\u001b[0m \u001b[32m━━━━━━━━━━━━━━━━━━━━\u001b[0m\u001b[37m\u001b[0m \u001b[1m0s\u001b[0m 1ms/step - loss: 1.0817 - mae: 0.8012 - val_loss: 1.2156 - val_mae: 0.8975\n",
      "Epoch 6/100\n",
      "\u001b[1m20/20\u001b[0m \u001b[32m━━━━━━━━━━━━━━━━━━━━\u001b[0m\u001b[37m\u001b[0m \u001b[1m0s\u001b[0m 1ms/step - loss: 1.0012 - mae: 0.7619 - val_loss: 1.1115 - val_mae: 0.8572\n",
      "Epoch 7/100\n",
      "\u001b[1m20/20\u001b[0m \u001b[32m━━━━━━━━━━━━━━━━━━━━\u001b[0m\u001b[37m\u001b[0m \u001b[1m0s\u001b[0m 1ms/step - loss: 0.8680 - mae: 0.7063 - val_loss: 1.0270 - val_mae: 0.8277\n",
      "Epoch 8/100\n",
      "\u001b[1m20/20\u001b[0m \u001b[32m━━━━━━━━━━━━━━━━━━━━\u001b[0m\u001b[37m\u001b[0m \u001b[1m0s\u001b[0m 1ms/step - loss: 0.7159 - mae: 0.6479 - val_loss: 0.9596 - val_mae: 0.7990\n",
      "Epoch 9/100\n",
      "\u001b[1m20/20\u001b[0m \u001b[32m━━━━━━━━━━━━━━━━━━━━\u001b[0m\u001b[37m\u001b[0m \u001b[1m0s\u001b[0m 1ms/step - loss: 0.6295 - mae: 0.6113 - val_loss: 0.8790 - val_mae: 0.7672\n",
      "Epoch 10/100\n",
      "\u001b[1m20/20\u001b[0m \u001b[32m━━━━━━━━━━━━━━━━━━━━\u001b[0m\u001b[37m\u001b[0m \u001b[1m0s\u001b[0m 1ms/step - loss: 0.6701 - mae: 0.6195 - val_loss: 0.8123 - val_mae: 0.7363\n",
      "Epoch 11/100\n",
      "\u001b[1m20/20\u001b[0m \u001b[32m━━━━━━━━━━━━━━━━━━━━\u001b[0m\u001b[37m\u001b[0m \u001b[1m0s\u001b[0m 1ms/step - loss: 0.5933 - mae: 0.5849 - val_loss: 0.7471 - val_mae: 0.7060\n",
      "Epoch 12/100\n",
      "\u001b[1m20/20\u001b[0m \u001b[32m━━━━━━━━━━━━━━━━━━━━\u001b[0m\u001b[37m\u001b[0m \u001b[1m0s\u001b[0m 1ms/step - loss: 0.4777 - mae: 0.5266 - val_loss: 0.6792 - val_mae: 0.6722\n",
      "Epoch 13/100\n",
      "\u001b[1m20/20\u001b[0m \u001b[32m━━━━━━━━━━━━━━━━━━━━\u001b[0m\u001b[37m\u001b[0m \u001b[1m0s\u001b[0m 1ms/step - loss: 0.4949 - mae: 0.5373 - val_loss: 0.6112 - val_mae: 0.6402\n",
      "Epoch 14/100\n",
      "\u001b[1m20/20\u001b[0m \u001b[32m━━━━━━━━━━━━━━━━━━━━\u001b[0m\u001b[37m\u001b[0m \u001b[1m0s\u001b[0m 1ms/step - loss: 0.4428 - mae: 0.5100 - val_loss: 0.5577 - val_mae: 0.6093\n",
      "Epoch 15/100\n",
      "\u001b[1m20/20\u001b[0m \u001b[32m━━━━━━━━━━━━━━━━━━━━\u001b[0m\u001b[37m\u001b[0m \u001b[1m0s\u001b[0m 2ms/step - loss: 0.4217 - mae: 0.4916 - val_loss: 0.4923 - val_mae: 0.5728\n",
      "Epoch 16/100\n",
      "\u001b[1m20/20\u001b[0m \u001b[32m━━━━━━━━━━━━━━━━━━━━\u001b[0m\u001b[37m\u001b[0m \u001b[1m0s\u001b[0m 1ms/step - loss: 0.3536 - mae: 0.4553 - val_loss: 0.4468 - val_mae: 0.5471\n",
      "Epoch 17/100\n",
      "\u001b[1m20/20\u001b[0m \u001b[32m━━━━━━━━━━━━━━━━━━━━\u001b[0m\u001b[37m\u001b[0m \u001b[1m0s\u001b[0m 1ms/step - loss: 0.3024 - mae: 0.4343 - val_loss: 0.3985 - val_mae: 0.5166\n",
      "Epoch 18/100\n",
      "\u001b[1m20/20\u001b[0m \u001b[32m━━━━━━━━━━━━━━━━━━━━\u001b[0m\u001b[37m\u001b[0m \u001b[1m0s\u001b[0m 1ms/step - loss: 0.3112 - mae: 0.4385 - val_loss: 0.3445 - val_mae: 0.4807\n",
      "Epoch 19/100\n",
      "\u001b[1m20/20\u001b[0m \u001b[32m━━━━━━━━━━━━━━━━━━━━\u001b[0m\u001b[37m\u001b[0m \u001b[1m0s\u001b[0m 1ms/step - loss: 0.2547 - mae: 0.3934 - val_loss: 0.3019 - val_mae: 0.4516\n",
      "Epoch 20/100\n",
      "\u001b[1m20/20\u001b[0m \u001b[32m━━━━━━━━━━━━━━━━━━━━\u001b[0m\u001b[37m\u001b[0m \u001b[1m0s\u001b[0m 3ms/step - loss: 0.2320 - mae: 0.3877 - val_loss: 0.2624 - val_mae: 0.4219\n",
      "Epoch 21/100\n",
      "\u001b[1m20/20\u001b[0m \u001b[32m━━━━━━━━━━━━━━━━━━━━\u001b[0m\u001b[37m\u001b[0m \u001b[1m0s\u001b[0m 1ms/step - loss: 0.1910 - mae: 0.3455 - val_loss: 0.2261 - val_mae: 0.3903\n",
      "Epoch 22/100\n",
      "\u001b[1m20/20\u001b[0m \u001b[32m━━━━━━━━━━━━━━━━━━━━\u001b[0m\u001b[37m\u001b[0m \u001b[1m0s\u001b[0m 1ms/step - loss: 0.1626 - mae: 0.3177 - val_loss: 0.1938 - val_mae: 0.3610\n",
      "Epoch 23/100\n",
      "\u001b[1m20/20\u001b[0m \u001b[32m━━━━━━━━━━━━━━━━━━━━\u001b[0m\u001b[37m\u001b[0m \u001b[1m0s\u001b[0m 1ms/step - loss: 0.1453 - mae: 0.3036 - val_loss: 0.1644 - val_mae: 0.3318\n",
      "Epoch 24/100\n",
      "\u001b[1m20/20\u001b[0m \u001b[32m━━━━━━━━━━━━━━━━━━━━\u001b[0m\u001b[37m\u001b[0m \u001b[1m0s\u001b[0m 1ms/step - loss: 0.1152 - mae: 0.2704 - val_loss: 0.1368 - val_mae: 0.3025\n",
      "Epoch 25/100\n",
      "\u001b[1m20/20\u001b[0m \u001b[32m━━━━━━━━━━━━━━━━━━━━\u001b[0m\u001b[37m\u001b[0m \u001b[1m0s\u001b[0m 1ms/step - loss: 0.0920 - mae: 0.2432 - val_loss: 0.1122 - val_mae: 0.2739\n",
      "Epoch 26/100\n",
      "\u001b[1m20/20\u001b[0m \u001b[32m━━━━━━━━━━━━━━━━━━━━\u001b[0m\u001b[37m\u001b[0m \u001b[1m0s\u001b[0m 1ms/step - loss: 0.0802 - mae: 0.2271 - val_loss: 0.0943 - val_mae: 0.2477\n",
      "Epoch 27/100\n",
      "\u001b[1m20/20\u001b[0m \u001b[32m━━━━━━━━━━━━━━━━━━━━\u001b[0m\u001b[37m\u001b[0m \u001b[1m0s\u001b[0m 1ms/step - loss: 0.0669 - mae: 0.2051 - val_loss: 0.0780 - val_mae: 0.2231\n",
      "Epoch 28/100\n",
      "\u001b[1m20/20\u001b[0m \u001b[32m━━━━━━━━━━━━━━━━━━━━\u001b[0m\u001b[37m\u001b[0m \u001b[1m0s\u001b[0m 1ms/step - loss: 0.0573 - mae: 0.1898 - val_loss: 0.0637 - val_mae: 0.2007\n",
      "Epoch 29/100\n",
      "\u001b[1m20/20\u001b[0m \u001b[32m━━━━━━━━━━━━━━━━━━━━\u001b[0m\u001b[37m\u001b[0m \u001b[1m0s\u001b[0m 1ms/step - loss: 0.0439 - mae: 0.1671 - val_loss: 0.0545 - val_mae: 0.1839\n",
      "Epoch 30/100\n",
      "\u001b[1m20/20\u001b[0m \u001b[32m━━━━━━━━━━━━━━━━━━━━\u001b[0m\u001b[37m\u001b[0m \u001b[1m0s\u001b[0m 1ms/step - loss: 0.0404 - mae: 0.1618 - val_loss: 0.0474 - val_mae: 0.1725\n",
      "Epoch 31/100\n",
      "\u001b[1m20/20\u001b[0m \u001b[32m━━━━━━━━━━━━━━━━━━━━\u001b[0m\u001b[37m\u001b[0m \u001b[1m0s\u001b[0m 1ms/step - loss: 0.0321 - mae: 0.1406 - val_loss: 0.0396 - val_mae: 0.1568\n",
      "Epoch 32/100\n",
      "\u001b[1m20/20\u001b[0m \u001b[32m━━━━━━━━━━━━━━━━━━━━\u001b[0m\u001b[37m\u001b[0m \u001b[1m0s\u001b[0m 1ms/step - loss: 0.0260 - mae: 0.1290 - val_loss: 0.0350 - val_mae: 0.1481\n",
      "Epoch 33/100\n",
      "\u001b[1m20/20\u001b[0m \u001b[32m━━━━━━━━━━━━━━━━━━━━\u001b[0m\u001b[37m\u001b[0m \u001b[1m0s\u001b[0m 1ms/step - loss: 0.0260 - mae: 0.1268 - val_loss: 0.0319 - val_mae: 0.1406\n",
      "Epoch 34/100\n",
      "\u001b[1m20/20\u001b[0m \u001b[32m━━━━━━━━━━━━━━━━━━━━\u001b[0m\u001b[37m\u001b[0m \u001b[1m0s\u001b[0m 1ms/step - loss: 0.0237 - mae: 0.1213 - val_loss: 0.0293 - val_mae: 0.1357\n",
      "Epoch 35/100\n",
      "\u001b[1m20/20\u001b[0m \u001b[32m━━━━━━━━━━━━━━━━━━━━\u001b[0m\u001b[37m\u001b[0m \u001b[1m0s\u001b[0m 1ms/step - loss: 0.0208 - mae: 0.1155 - val_loss: 0.0273 - val_mae: 0.1315\n",
      "Epoch 36/100\n",
      "\u001b[1m20/20\u001b[0m \u001b[32m━━━━━━━━━━━━━━━━━━━━\u001b[0m\u001b[37m\u001b[0m \u001b[1m0s\u001b[0m 1ms/step - loss: 0.0193 - mae: 0.1118 - val_loss: 0.0257 - val_mae: 0.1281\n",
      "Epoch 37/100\n",
      "\u001b[1m20/20\u001b[0m \u001b[32m━━━━━━━━━━━━━━━━━━━━\u001b[0m\u001b[37m\u001b[0m \u001b[1m0s\u001b[0m 2ms/step - loss: 0.0183 - mae: 0.1070 - val_loss: 0.0247 - val_mae: 0.1250\n",
      "Epoch 38/100\n",
      "\u001b[1m20/20\u001b[0m \u001b[32m━━━━━━━━━━━━━━━━━━━━\u001b[0m\u001b[37m\u001b[0m \u001b[1m0s\u001b[0m 1ms/step - loss: 0.0192 - mae: 0.1109 - val_loss: 0.0240 - val_mae: 0.1232\n",
      "Epoch 39/100\n",
      "\u001b[1m20/20\u001b[0m \u001b[32m━━━━━━━━━━━━━━━━━━━━\u001b[0m\u001b[37m\u001b[0m \u001b[1m0s\u001b[0m 1ms/step - loss: 0.0176 - mae: 0.1043 - val_loss: 0.0237 - val_mae: 0.1220\n",
      "Epoch 40/100\n",
      "\u001b[1m20/20\u001b[0m \u001b[32m━━━━━━━━━━━━━━━━━━━━\u001b[0m\u001b[37m\u001b[0m \u001b[1m0s\u001b[0m 1ms/step - loss: 0.0152 - mae: 0.0969 - val_loss: 0.0225 - val_mae: 0.1187\n",
      "Epoch 41/100\n",
      "\u001b[1m20/20\u001b[0m \u001b[32m━━━━━━━━━━━━━━━━━━━━\u001b[0m\u001b[37m\u001b[0m \u001b[1m0s\u001b[0m 1ms/step - loss: 0.0161 - mae: 0.1006 - val_loss: 0.0215 - val_mae: 0.1163\n",
      "Epoch 42/100\n",
      "\u001b[1m20/20\u001b[0m \u001b[32m━━━━━━━━━━━━━━━━━━━━\u001b[0m\u001b[37m\u001b[0m \u001b[1m0s\u001b[0m 1ms/step - loss: 0.0174 - mae: 0.1030 - val_loss: 0.0217 - val_mae: 0.1155\n",
      "Epoch 43/100\n",
      "\u001b[1m20/20\u001b[0m \u001b[32m━━━━━━━━━━━━━━━━━━━━\u001b[0m\u001b[37m\u001b[0m \u001b[1m0s\u001b[0m 1ms/step - loss: 0.0164 - mae: 0.0998 - val_loss: 0.0207 - val_mae: 0.1141\n",
      "Epoch 44/100\n",
      "\u001b[1m20/20\u001b[0m \u001b[32m━━━━━━━━━━━━━━━━━━━━\u001b[0m\u001b[37m\u001b[0m \u001b[1m0s\u001b[0m 1ms/step - loss: 0.0152 - mae: 0.0972 - val_loss: 0.0206 - val_mae: 0.1149\n",
      "Epoch 45/100\n",
      "\u001b[1m20/20\u001b[0m \u001b[32m━━━━━━━━━━━━━━━━━━━━\u001b[0m\u001b[37m\u001b[0m \u001b[1m0s\u001b[0m 1ms/step - loss: 0.0140 - mae: 0.0937 - val_loss: 0.0209 - val_mae: 0.1127\n",
      "Epoch 46/100\n",
      "\u001b[1m20/20\u001b[0m \u001b[32m━━━━━━━━━━━━━━━━━━━━\u001b[0m\u001b[37m\u001b[0m \u001b[1m0s\u001b[0m 1ms/step - loss: 0.0147 - mae: 0.0952 - val_loss: 0.0194 - val_mae: 0.1106\n",
      "Epoch 47/100\n",
      "\u001b[1m20/20\u001b[0m \u001b[32m━━━━━━━━━━━━━━━━━━━━\u001b[0m\u001b[37m\u001b[0m \u001b[1m0s\u001b[0m 1ms/step - loss: 0.0144 - mae: 0.0951 - val_loss: 0.0197 - val_mae: 0.1104\n",
      "Epoch 48/100\n",
      "\u001b[1m20/20\u001b[0m \u001b[32m━━━━━━━━━━━━━━━━━━━━\u001b[0m\u001b[37m\u001b[0m \u001b[1m0s\u001b[0m 1ms/step - loss: 0.0146 - mae: 0.0936 - val_loss: 0.0192 - val_mae: 0.1089\n",
      "Epoch 49/100\n",
      "\u001b[1m20/20\u001b[0m \u001b[32m━━━━━━━━━━━━━━━━━━━━\u001b[0m\u001b[37m\u001b[0m \u001b[1m0s\u001b[0m 1ms/step - loss: 0.0144 - mae: 0.0973 - val_loss: 0.0189 - val_mae: 0.1096\n",
      "Epoch 50/100\n",
      "\u001b[1m20/20\u001b[0m \u001b[32m━━━━━━━━━━━━━━━━━━━━\u001b[0m\u001b[37m\u001b[0m \u001b[1m0s\u001b[0m 1ms/step - loss: 0.0135 - mae: 0.0909 - val_loss: 0.0189 - val_mae: 0.1089\n",
      "Epoch 51/100\n",
      "\u001b[1m20/20\u001b[0m \u001b[32m━━━━━━━━━━━━━━━━━━━━\u001b[0m\u001b[37m\u001b[0m \u001b[1m0s\u001b[0m 1ms/step - loss: 0.0135 - mae: 0.0911 - val_loss: 0.0186 - val_mae: 0.1083\n",
      "Epoch 52/100\n",
      "\u001b[1m20/20\u001b[0m \u001b[32m━━━━━━━━━━━━━━━━━━━━\u001b[0m\u001b[37m\u001b[0m \u001b[1m0s\u001b[0m 1ms/step - loss: 0.0139 - mae: 0.0911 - val_loss: 0.0180 - val_mae: 0.1054\n",
      "Epoch 53/100\n",
      "\u001b[1m20/20\u001b[0m \u001b[32m━━━━━━━━━━━━━━━━━━━━\u001b[0m\u001b[37m\u001b[0m \u001b[1m0s\u001b[0m 1ms/step - loss: 0.0156 - mae: 0.0962 - val_loss: 0.0183 - val_mae: 0.1075\n",
      "Epoch 54/100\n",
      "\u001b[1m20/20\u001b[0m \u001b[32m━━━━━━━━━━━━━━━━━━━━\u001b[0m\u001b[37m\u001b[0m \u001b[1m0s\u001b[0m 1ms/step - loss: 0.0131 - mae: 0.0921 - val_loss: 0.0184 - val_mae: 0.1066\n",
      "Epoch 55/100\n",
      "\u001b[1m20/20\u001b[0m \u001b[32m━━━━━━━━━━━━━━━━━━━━\u001b[0m\u001b[37m\u001b[0m \u001b[1m0s\u001b[0m 1ms/step - loss: 0.0135 - mae: 0.0922 - val_loss: 0.0176 - val_mae: 0.1048\n",
      "Epoch 56/100\n",
      "\u001b[1m20/20\u001b[0m \u001b[32m━━━━━━━━━━━━━━━━━━━━\u001b[0m\u001b[37m\u001b[0m \u001b[1m0s\u001b[0m 1ms/step - loss: 0.0144 - mae: 0.0953 - val_loss: 0.0196 - val_mae: 0.1121\n",
      "Epoch 57/100\n",
      "\u001b[1m20/20\u001b[0m \u001b[32m━━━━━━━━━━━━━━━━━━━━\u001b[0m\u001b[37m\u001b[0m \u001b[1m0s\u001b[0m 1ms/step - loss: 0.0138 - mae: 0.0922 - val_loss: 0.0185 - val_mae: 0.1097\n",
      "Epoch 58/100\n",
      "\u001b[1m20/20\u001b[0m \u001b[32m━━━━━━━━━━━━━━━━━━━━\u001b[0m\u001b[37m\u001b[0m \u001b[1m0s\u001b[0m 1ms/step - loss: 0.0145 - mae: 0.0956 - val_loss: 0.0181 - val_mae: 0.1062\n",
      "Epoch 59/100\n",
      "\u001b[1m20/20\u001b[0m \u001b[32m━━━━━━━━━━━━━━━━━━━━\u001b[0m\u001b[37m\u001b[0m \u001b[1m0s\u001b[0m 1ms/step - loss: 0.0130 - mae: 0.0905 - val_loss: 0.0174 - val_mae: 0.1043\n",
      "Epoch 60/100\n",
      "\u001b[1m20/20\u001b[0m \u001b[32m━━━━━━━━━━━━━━━━━━━━\u001b[0m\u001b[37m\u001b[0m \u001b[1m0s\u001b[0m 1ms/step - loss: 0.0136 - mae: 0.0910 - val_loss: 0.0169 - val_mae: 0.1043\n",
      "Epoch 61/100\n",
      "\u001b[1m20/20\u001b[0m \u001b[32m━━━━━━━━━━━━━━━━━━━━\u001b[0m\u001b[37m\u001b[0m \u001b[1m0s\u001b[0m 1ms/step - loss: 0.0143 - mae: 0.0930 - val_loss: 0.0183 - val_mae: 0.1080\n",
      "Epoch 62/100\n",
      "\u001b[1m20/20\u001b[0m \u001b[32m━━━━━━━━━━━━━━━━━━━━\u001b[0m\u001b[37m\u001b[0m \u001b[1m0s\u001b[0m 1ms/step - loss: 0.0129 - mae: 0.0892 - val_loss: 0.0169 - val_mae: 0.1018\n",
      "Epoch 63/100\n",
      "\u001b[1m20/20\u001b[0m \u001b[32m━━━━━━━━━━━━━━━━━━━━\u001b[0m\u001b[37m\u001b[0m \u001b[1m0s\u001b[0m 1ms/step - loss: 0.0138 - mae: 0.0913 - val_loss: 0.0175 - val_mae: 0.1030\n",
      "Epoch 64/100\n",
      "\u001b[1m20/20\u001b[0m \u001b[32m━━━━━━━━━━━━━━━━━━━━\u001b[0m\u001b[37m\u001b[0m \u001b[1m0s\u001b[0m 1ms/step - loss: 0.0121 - mae: 0.0881 - val_loss: 0.0169 - val_mae: 0.1047\n",
      "Epoch 65/100\n",
      "\u001b[1m20/20\u001b[0m \u001b[32m━━━━━━━━━━━━━━━━━━━━\u001b[0m\u001b[37m\u001b[0m \u001b[1m0s\u001b[0m 1ms/step - loss: 0.0136 - mae: 0.0921 - val_loss: 0.0166 - val_mae: 0.1023\n",
      "Epoch 66/100\n",
      "\u001b[1m20/20\u001b[0m \u001b[32m━━━━━━━━━━━━━━━━━━━━\u001b[0m\u001b[37m\u001b[0m \u001b[1m0s\u001b[0m 1ms/step - loss: 0.0124 - mae: 0.0876 - val_loss: 0.0170 - val_mae: 0.1074\n",
      "Epoch 67/100\n",
      "\u001b[1m20/20\u001b[0m \u001b[32m━━━━━━━━━━━━━━━━━━━━\u001b[0m\u001b[37m\u001b[0m \u001b[1m0s\u001b[0m 1ms/step - loss: 0.0132 - mae: 0.0913 - val_loss: 0.0166 - val_mae: 0.1008\n",
      "Epoch 68/100\n",
      "\u001b[1m20/20\u001b[0m \u001b[32m━━━━━━━━━━━━━━━━━━━━\u001b[0m\u001b[37m\u001b[0m \u001b[1m0s\u001b[0m 1ms/step - loss: 0.0117 - mae: 0.0851 - val_loss: 0.0176 - val_mae: 0.1043\n",
      "Epoch 69/100\n",
      "\u001b[1m20/20\u001b[0m \u001b[32m━━━━━━━━━━━━━━━━━━━━\u001b[0m\u001b[37m\u001b[0m \u001b[1m0s\u001b[0m 1ms/step - loss: 0.0127 - mae: 0.0899 - val_loss: 0.0169 - val_mae: 0.1007\n",
      "Epoch 70/100\n",
      "\u001b[1m20/20\u001b[0m \u001b[32m━━━━━━━━━━━━━━━━━━━━\u001b[0m\u001b[37m\u001b[0m \u001b[1m0s\u001b[0m 1ms/step - loss: 0.0127 - mae: 0.0873 - val_loss: 0.0160 - val_mae: 0.0993\n",
      "Epoch 71/100\n",
      "\u001b[1m20/20\u001b[0m \u001b[32m━━━━━━━━━━━━━━━━━━━━\u001b[0m\u001b[37m\u001b[0m \u001b[1m0s\u001b[0m 1ms/step - loss: 0.0120 - mae: 0.0854 - val_loss: 0.0163 - val_mae: 0.1005\n",
      "Epoch 72/100\n",
      "\u001b[1m20/20\u001b[0m \u001b[32m━━━━━━━━━━━━━━━━━━━━\u001b[0m\u001b[37m\u001b[0m \u001b[1m0s\u001b[0m 1ms/step - loss: 0.0118 - mae: 0.0848 - val_loss: 0.0162 - val_mae: 0.1004\n",
      "Epoch 73/100\n",
      "\u001b[1m20/20\u001b[0m \u001b[32m━━━━━━━━━━━━━━━━━━━━\u001b[0m\u001b[37m\u001b[0m \u001b[1m0s\u001b[0m 1ms/step - loss: 0.0121 - mae: 0.0855 - val_loss: 0.0158 - val_mae: 0.1005\n",
      "Epoch 74/100\n",
      "\u001b[1m20/20\u001b[0m \u001b[32m━━━━━━━━━━━━━━━━━━━━\u001b[0m\u001b[37m\u001b[0m \u001b[1m0s\u001b[0m 1ms/step - loss: 0.0119 - mae: 0.0871 - val_loss: 0.0168 - val_mae: 0.1031\n",
      "Epoch 75/100\n",
      "\u001b[1m20/20\u001b[0m \u001b[32m━━━━━━━━━━━━━━━━━━━━\u001b[0m\u001b[37m\u001b[0m \u001b[1m0s\u001b[0m 1ms/step - loss: 0.0105 - mae: 0.0806 - val_loss: 0.0155 - val_mae: 0.0988\n",
      "Epoch 76/100\n",
      "\u001b[1m20/20\u001b[0m \u001b[32m━━━━━━━━━━━━━━━━━━━━\u001b[0m\u001b[37m\u001b[0m \u001b[1m0s\u001b[0m 1ms/step - loss: 0.0117 - mae: 0.0858 - val_loss: 0.0157 - val_mae: 0.1004\n",
      "Epoch 77/100\n",
      "\u001b[1m20/20\u001b[0m \u001b[32m━━━━━━━━━━━━━━━━━━━━\u001b[0m\u001b[37m\u001b[0m \u001b[1m0s\u001b[0m 1ms/step - loss: 0.0106 - mae: 0.0824 - val_loss: 0.0167 - val_mae: 0.1047\n",
      "Epoch 78/100\n",
      "\u001b[1m20/20\u001b[0m \u001b[32m━━━━━━━━━━━━━━━━━━━━\u001b[0m\u001b[37m\u001b[0m \u001b[1m0s\u001b[0m 1ms/step - loss: 0.0119 - mae: 0.0864 - val_loss: 0.0158 - val_mae: 0.0992\n",
      "Epoch 79/100\n",
      "\u001b[1m20/20\u001b[0m \u001b[32m━━━━━━━━━━━━━━━━━━━━\u001b[0m\u001b[37m\u001b[0m \u001b[1m0s\u001b[0m 1ms/step - loss: 0.0118 - mae: 0.0862 - val_loss: 0.0157 - val_mae: 0.0997\n",
      "Epoch 80/100\n",
      "\u001b[1m20/20\u001b[0m \u001b[32m━━━━━━━━━━━━━━━━━━━━\u001b[0m\u001b[37m\u001b[0m \u001b[1m0s\u001b[0m 1ms/step - loss: 0.0121 - mae: 0.0886 - val_loss: 0.0151 - val_mae: 0.0980\n",
      "Epoch 81/100\n",
      "\u001b[1m20/20\u001b[0m \u001b[32m━━━━━━━━━━━━━━━━━━━━\u001b[0m\u001b[37m\u001b[0m \u001b[1m0s\u001b[0m 1ms/step - loss: 0.0117 - mae: 0.0839 - val_loss: 0.0155 - val_mae: 0.0982\n",
      "Epoch 82/100\n",
      "\u001b[1m20/20\u001b[0m \u001b[32m━━━━━━━━━━━━━━━━━━━━\u001b[0m\u001b[37m\u001b[0m \u001b[1m0s\u001b[0m 1ms/step - loss: 0.0123 - mae: 0.0877 - val_loss: 0.0153 - val_mae: 0.0984\n",
      "Epoch 83/100\n",
      "\u001b[1m20/20\u001b[0m \u001b[32m━━━━━━━━━━━━━━━━━━━━\u001b[0m\u001b[37m\u001b[0m \u001b[1m0s\u001b[0m 1ms/step - loss: 0.0112 - mae: 0.0846 - val_loss: 0.0160 - val_mae: 0.0999\n",
      "Epoch 84/100\n",
      "\u001b[1m20/20\u001b[0m \u001b[32m━━━━━━━━━━━━━━━━━━━━\u001b[0m\u001b[37m\u001b[0m \u001b[1m0s\u001b[0m 2ms/step - loss: 0.0110 - mae: 0.0832 - val_loss: 0.0152 - val_mae: 0.0980\n",
      "Epoch 85/100\n",
      "\u001b[1m20/20\u001b[0m \u001b[32m━━━━━━━━━━━━━━━━━━━━\u001b[0m\u001b[37m\u001b[0m \u001b[1m0s\u001b[0m 1ms/step - loss: 0.0105 - mae: 0.0799 - val_loss: 0.0149 - val_mae: 0.0979\n",
      "Epoch 86/100\n",
      "\u001b[1m20/20\u001b[0m \u001b[32m━━━━━━━━━━━━━━━━━━━━\u001b[0m\u001b[37m\u001b[0m \u001b[1m0s\u001b[0m 1ms/step - loss: 0.0110 - mae: 0.0842 - val_loss: 0.0161 - val_mae: 0.1032\n",
      "Epoch 87/100\n",
      "\u001b[1m20/20\u001b[0m \u001b[32m━━━━━━━━━━━━━━━━━━━━\u001b[0m\u001b[37m\u001b[0m \u001b[1m0s\u001b[0m 2ms/step - loss: 0.0114 - mae: 0.0849 - val_loss: 0.0174 - val_mae: 0.1037\n",
      "Epoch 88/100\n",
      "\u001b[1m20/20\u001b[0m \u001b[32m━━━━━━━━━━━━━━━━━━━━\u001b[0m\u001b[37m\u001b[0m \u001b[1m0s\u001b[0m 2ms/step - loss: 0.0116 - mae: 0.0844 - val_loss: 0.0147 - val_mae: 0.0971\n",
      "Epoch 89/100\n",
      "\u001b[1m20/20\u001b[0m \u001b[32m━━━━━━━━━━━━━━━━━━━━\u001b[0m\u001b[37m\u001b[0m \u001b[1m0s\u001b[0m 1ms/step - loss: 0.0108 - mae: 0.0827 - val_loss: 0.0150 - val_mae: 0.0961\n",
      "Epoch 90/100\n",
      "\u001b[1m20/20\u001b[0m \u001b[32m━━━━━━━━━━━━━━━━━━━━\u001b[0m\u001b[37m\u001b[0m \u001b[1m0s\u001b[0m 1ms/step - loss: 0.0109 - mae: 0.0850 - val_loss: 0.0146 - val_mae: 0.0959\n",
      "Epoch 91/100\n",
      "\u001b[1m20/20\u001b[0m \u001b[32m━━━━━━━━━━━━━━━━━━━━\u001b[0m\u001b[37m\u001b[0m \u001b[1m0s\u001b[0m 1ms/step - loss: 0.0113 - mae: 0.0833 - val_loss: 0.0152 - val_mae: 0.0985\n",
      "Epoch 92/100\n",
      "\u001b[1m20/20\u001b[0m \u001b[32m━━━━━━━━━━━━━━━━━━━━\u001b[0m\u001b[37m\u001b[0m \u001b[1m0s\u001b[0m 1ms/step - loss: 0.0111 - mae: 0.0843 - val_loss: 0.0152 - val_mae: 0.0959\n",
      "Epoch 93/100\n",
      "\u001b[1m20/20\u001b[0m \u001b[32m━━━━━━━━━━━━━━━━━━━━\u001b[0m\u001b[37m\u001b[0m \u001b[1m0s\u001b[0m 1ms/step - loss: 0.0120 - mae: 0.0853 - val_loss: 0.0156 - val_mae: 0.0985\n",
      "Epoch 94/100\n",
      "\u001b[1m20/20\u001b[0m \u001b[32m━━━━━━━━━━━━━━━━━━━━\u001b[0m\u001b[37m\u001b[0m \u001b[1m0s\u001b[0m 1ms/step - loss: 0.0118 - mae: 0.0839 - val_loss: 0.0145 - val_mae: 0.0968\n",
      "Epoch 95/100\n",
      "\u001b[1m20/20\u001b[0m \u001b[32m━━━━━━━━━━━━━━━━━━━━\u001b[0m\u001b[37m\u001b[0m \u001b[1m0s\u001b[0m 1ms/step - loss: 0.0125 - mae: 0.0875 - val_loss: 0.0150 - val_mae: 0.0965\n",
      "Epoch 96/100\n",
      "\u001b[1m20/20\u001b[0m \u001b[32m━━━━━━━━━━━━━━━━━━━━\u001b[0m\u001b[37m\u001b[0m \u001b[1m0s\u001b[0m 2ms/step - loss: 0.0105 - mae: 0.0819 - val_loss: 0.0145 - val_mae: 0.0958\n",
      "Epoch 97/100\n",
      "\u001b[1m20/20\u001b[0m \u001b[32m━━━━━━━━━━━━━━━━━━━━\u001b[0m\u001b[37m\u001b[0m \u001b[1m0s\u001b[0m 1ms/step - loss: 0.0113 - mae: 0.0843 - val_loss: 0.0144 - val_mae: 0.0953\n",
      "Epoch 98/100\n",
      "\u001b[1m20/20\u001b[0m \u001b[32m━━━━━━━━━━━━━━━━━━━━\u001b[0m\u001b[37m\u001b[0m \u001b[1m0s\u001b[0m 1ms/step - loss: 0.0107 - mae: 0.0819 - val_loss: 0.0149 - val_mae: 0.0953\n",
      "Epoch 99/100\n",
      "\u001b[1m20/20\u001b[0m \u001b[32m━━━━━━━━━━━━━━━━━━━━\u001b[0m\u001b[37m\u001b[0m \u001b[1m0s\u001b[0m 1ms/step - loss: 0.0121 - mae: 0.0862 - val_loss: 0.0143 - val_mae: 0.0953\n",
      "Epoch 100/100\n",
      "\u001b[1m20/20\u001b[0m \u001b[32m━━━━━━━━━━━━━━━━━━━━\u001b[0m\u001b[37m\u001b[0m \u001b[1m0s\u001b[0m 1ms/step - loss: 0.0103 - mae: 0.0820 - val_loss: 0.0141 - val_mae: 0.0971\n",
      "\u001b[1m7/7\u001b[0m \u001b[32m━━━━━━━━━━━━━━━━━━━━\u001b[0m\u001b[37m\u001b[0m \u001b[1m0s\u001b[0m 831us/step - loss: 0.0147 - mae: 0.0994\n",
      "\u001b[1m7/7\u001b[0m \u001b[32m━━━━━━━━━━━━━━━━━━━━\u001b[0m\u001b[37m\u001b[0m \u001b[1m0s\u001b[0m 4ms/step \n",
      "Mean Absolute Error on Test Set: 0.10169906914234161\n"
     ]
    }
   ],
   "source": [
    "# Build the neural network model\n",
    "model = tf.keras.Sequential([\n",
    "    tf.keras.layers.Dense(64, activation='relu', input_shape=(X_train.shape[1],)),  # Input layer\n",
    "    tf.keras.layers.Dense(64, activation='relu'),  # Hidden layer\n",
    "    tf.keras.layers.Dense(1)  # Output layer for regression (predicting a single value)\n",
    "])\n",
    "\n",
    "# Compile the model\n",
    "model.compile(optimizer='adam', loss='mse', metrics=['mae'])\n",
    "\n",
    "# Train the model\n",
    "history = model.fit(X_train, y_train, epochs=100, batch_size=32, validation_split=0.2)\n",
    "\n",
    "# Evaluate the model on the test set\n",
    "loss, mae = model.evaluate(X_test, y_test)\n",
    "y_pred = model.predict(X_test)\n",
    "\n",
    "# Calculate and display the Mean Absolute Error\n",
    "print(f'Mean Absolute Error on Test Set: {mae}')\n"
   ]
  },
  {
   "cell_type": "markdown",
   "id": "957da45d-f727-4ba0-b2c7-15029aacb132",
   "metadata": {},
   "source": [
    "### 4. Plotting and Visualization"
   ]
  },
  {
   "cell_type": "code",
   "execution_count": 6,
   "id": "b2f5bf3e-a7dc-462b-84b9-04d2fc78a1ca",
   "metadata": {},
   "outputs": [
    {
     "data": {
      "image/png": "[encoded data removed]",
      "text/plain": [
       "<Figure size 640x480 with 1 Axes>"
      ]
     },
     "metadata": {},
     "output_type": "display_data"
    },
    {
     "data": {
      "image/png": "[encoded data removed]",
      "text/plain": [
       "<Figure size 640x480 with 1 Axes>"
      ]
     },
     "metadata": {},
     "output_type": "display_data"
    }
   ],
   "source": [
    "# Plot training history (loss)\n",
    "plt.plot(history.history['loss'], label='Train Loss')\n",
    "plt.plot(history.history['val_loss'], label='Validation Loss')\n",
    "plt.title('Training and Validation Loss')\n",
    "plt.xlabel('Epochs')\n",
    "plt.ylabel('Loss')\n",
    "plt.legend()\n",
    "plt.show()\n",
    "\n",
    "# Plot the predicted vs actual values for the test set\n",
    "plt.scatter(y_test, y_pred)\n",
    "plt.plot([min(y_test), max(y_test)], [min(y_test), max(y_test)], color='red', label='Ideal Line')\n",
    "plt.xlabel('Actual Values')\n",
    "plt.ylabel('Predicted Values')\n",
    "plt.title('Actual vs Predicted FBG Sensor Target')\n",
    "plt.legend()\n",
    "plt.show()\n"
   ]
  },
  {
   "cell_type": "markdown",
   "id": "2f5774d7-3465-46dc-9d3d-ea0ed98a23e1",
   "metadata": {},
   "source": [
    "### 5.Saving the Model for Future Use"
   ]
  },
  {
   "cell_type": "code",
   "execution_count": 7,
   "id": "213796fc-a41a-4a2b-b6ce-d98dfcfe9841",
   "metadata": {},
   "outputs": [
    {
     "name": "stderr",
     "output_type": "stream",
     "text": [
      "WARNING:absl:You are saving your model as an HDF5 file via `model.save()` or `keras.saving.save_model(model)`. This file format is considered legacy. We recommend using instead the native Keras format, e.g. `model.save('my_model.keras')` or `keras.saving.save_model(model, 'my_model.keras')`. \n"
     ]
    }
   ],
   "source": [
    "# Save the model for future use\n",
    "model.save('fbg_sensor_model.h5')\n"
   ]
  },
  {
   "cell_type": "code",
   "execution_count": null,
   "id": "71ac4245-9b0b-4342-adb6-747006db7735",
   "metadata": {},
   "outputs": [],
   "source": []
  },
  {
   "cell_type": "markdown",
   "id": "966fbdba-e7d6-4772-be59-e0b2d392c86d",
   "metadata": {},
   "source": [
    "# Other approches of FBG sensor data collection "
   ]
  },
  {
   "cell_type": "code",
   "execution_count": 18,
   "id": "aafd2199-08fc-47eb-9f58-23f757f49ad1",
   "metadata": {},
   "outputs": [],
   "source": [
    "# Summary of Approaches:\n",
    "# Example 1: Simulated multiple targets (strain and temperature) with linear relationships.\n",
    "# Example 2: Time-series data for FBG sensor readings, useful for dynamic environments.\n",
    "# Example 3: A nonlinear target simulation, illustrating nonlinear behavior.\n",
    "# Example 4: Simulated data with different environmental conditions (strain, temperature, pressure)."
   ]
  },
  {
   "cell_type": "markdown",
   "id": "965dfdcc-f594-4566-ab98-9610641ef5dd",
   "metadata": {},
   "source": [
    "# Example 1: Simulate Data with Multiple Targets (Strain and Temperature)"
   ]
  },
  {
   "cell_type": "code",
   "execution_count": 9,
   "id": "65b49129-faeb-4a1b-a344-16ee06db496d",
   "metadata": {},
   "outputs": [],
   "source": [
    "#In this example, we simulate FBG sensor readings for both strain and temperature and save them in a CSV file."
   ]
  },
  {
   "cell_type": "code",
   "execution_count": 10,
   "id": "322b710b-1a53-4026-8815-8ac74b4b7d02",
   "metadata": {},
   "outputs": [
    {
     "name": "stdout",
     "output_type": "stream",
     "text": [
      "       FBG1      FBG2      FBG3    Strain  Temperature\n",
      "0  0.374540  0.950714  0.731994  7.367187     5.814632\n",
      "1  0.598658  0.156019  0.155995  2.507046     1.877922\n",
      "2  0.058084  0.866176  0.601115  5.788628     4.699857\n",
      "3  0.708073  0.020584  0.969910  6.190852     5.000925\n",
      "4  0.832443  0.212339  0.181825  3.332222     2.447430\n",
      "Data successfully written to 'fbg_sensor_strain_temperature_data.csv'\n"
     ]
    }
   ],
   "source": [
    "# Import necessary libraries\n",
    "import numpy as np\n",
    "import pandas as pd\n",
    "\n",
    "# Simulate FBG sensor data for 1000 samples with 3 sensors\n",
    "np.random.seed(42)\n",
    "X = np.random.rand(1000, 3)  # Let's assume 3 features from 3 FBG sensors\n",
    "\n",
    "# Simulate two target variables: strain and temperature\n",
    "strain = 2 * X[:, 0] + 3 * X[:, 1] + 5 * X[:, 2] + np.random.normal(0, 0.1, 1000)\n",
    "temperature = 1.5 * X[:, 0] + 2.5 * X[:, 1] + 4 * X[:, 2] + np.random.normal(0, 0.1, 1000)\n",
    "\n",
    "# Convert to DataFrame for better understanding\n",
    "df = pd.DataFrame(X, columns=['FBG1', 'FBG2', 'FBG3'])  # Features from 3 FBG sensors\n",
    "df['Strain'] = strain  # Simulated strain\n",
    "df['Temperature'] = temperature  # Simulated temperature\n",
    "\n",
    "# Display the first few rows of the data\n",
    "print(df.head())\n",
    "\n",
    "# Write the generated data to a CSV file\n",
    "df.to_csv('fbg_sensor_strain_temperature_data.csv', index=False)\n",
    "\n",
    "print(\"Data successfully written to 'fbg_sensor_strain_temperature_data.csv'\")\n"
   ]
  },
  {
   "cell_type": "code",
   "execution_count": null,
   "id": "a603ef79-0d1d-489d-a1de-96fb7ae21bac",
   "metadata": {},
   "outputs": [],
   "source": []
  },
  {
   "cell_type": "markdown",
   "id": "aaa38f51-48c4-4609-85d6-052744726806",
   "metadata": {},
   "source": [
    "# Example 2: Simulate Time-Series FBG Sensor Data\n"
   ]
  },
  {
   "cell_type": "code",
   "execution_count": null,
   "id": "76e0cb41-e826-49d4-950f-57c6a498286e",
   "metadata": {},
   "outputs": [],
   "source": [
    "#If you're dealing with time-series data where FBG sensor readings are taken over time, you can simulate that as well. \n",
    "#This example simulates readings over a period of time."
   ]
  },
  {
   "cell_type": "code",
   "execution_count": 11,
   "id": "355c413f-b464-4e9a-a95e-f52ad09ed5b6",
   "metadata": {},
   "outputs": [
    {
     "name": "stdout",
     "output_type": "stream",
     "text": [
      "       FBG1      FBG2      FBG3  Wavelength Shift  Time Step\n",
      "0  0.018727  0.047536  0.036600          0.083941          0\n",
      "1  0.039933  0.017801  0.017800          0.059717          1\n",
      "2  0.022903  0.063307  0.050054          0.074633          2\n",
      "3  0.065399  0.031025  0.078491         -0.010593          3\n",
      "4  0.081611  0.050606  0.049081          0.126401          4\n",
      "Time-series data successfully written to 'fbg_sensor_time_series_data.csv'\n"
     ]
    }
   ],
   "source": [
    "# Import necessary libraries\n",
    "import numpy as np\n",
    "import pandas as pd\n",
    "\n",
    "# Simulate time-series FBG sensor data for 3 sensors over 1000 time steps\n",
    "np.random.seed(42)\n",
    "time_steps = np.arange(1000)  # Simulating 1000 time steps\n",
    "X = np.sin(0.01 * time_steps)[:, None] + np.random.rand(1000, 3) * 0.05  # Adding some random noise\n",
    "\n",
    "# Simulate a target variable (e.g., wavelength shift due to temperature/strain changes)\n",
    "wavelength_shift = 0.5 * X[:, 0] + 0.3 * X[:, 1] + 0.2 * X[:, 2] + np.random.normal(0, 0.05, 1000)\n",
    "\n",
    "# Convert to DataFrame for better understanding\n",
    "df = pd.DataFrame(X, columns=['FBG1', 'FBG2', 'FBG3'])  # Features from 3 FBG sensors\n",
    "df['Wavelength Shift'] = wavelength_shift  # Simulated wavelength shift\n",
    "df['Time Step'] = time_steps  # Add the time step column\n",
    "\n",
    "# Display the first few rows of the data\n",
    "print(df.head())\n",
    "\n",
    "# Write the generated time-series data to a CSV file\n",
    "df.to_csv('fbg_sensor_time_series_data.csv', index=False)\n",
    "\n",
    "print(\"Time-series data successfully written to 'fbg_sensor_time_series_data.csv'\")\n",
    "\n"
   ]
  },
  {
   "cell_type": "code",
   "execution_count": null,
   "id": "ddd6963e-62da-4eb7-89f0-6892233b98ed",
   "metadata": {},
   "outputs": [],
   "source": []
  },
  {
   "cell_type": "markdown",
   "id": "94143959-9af6-4a5c-a51b-d09b675a21e4",
   "metadata": {},
   "source": [
    "# Example 3: Simulate FBG Sensor Data with Nonlinear Response"
   ]
  },
  {
   "cell_type": "code",
   "execution_count": 12,
   "id": "76f84e59-5c7f-4a43-9659-cec0bc280176",
   "metadata": {},
   "outputs": [],
   "source": [
    "# If your FBG sensors exhibit nonlinear behavior (e.g., wavelength shifts that aren't linearly related to temperature or strain), you can simulate that too."
   ]
  },
  {
   "cell_type": "code",
   "execution_count": 13,
   "id": "e083d2a7-efdd-47c5-8e8b-4fe830f77501",
   "metadata": {},
   "outputs": [
    {
     "name": "stdout",
     "output_type": "stream",
     "text": [
      "       FBG1      FBG2      FBG3  Wavelength Shift\n",
      "0  0.374540  0.950714  0.731994          2.340769\n",
      "1  0.598658  0.156019  0.155995          4.578317\n",
      "2  0.058084  0.866176  0.601115          1.205182\n",
      "3  0.708073  0.020584  0.969910          8.370532\n",
      "4  0.832443  0.212339  0.181825          4.884075\n",
      "Nonlinear data successfully written to 'fbg_sensor_nonlinear_data.csv'\n"
     ]
    }
   ],
   "source": [
    "# Import necessary libraries\n",
    "import numpy as np\n",
    "import pandas as pd\n",
    "\n",
    "# Simulate FBG sensor data for 1000 samples with 3 sensors\n",
    "np.random.seed(42)\n",
    "X = np.random.rand(1000, 3)  # Let's assume 3 features from 3 FBG sensors\n",
    "\n",
    "# Simulate nonlinear target variable (e.g., wavelength shift with a nonlinear relation)\n",
    "wavelength_shift = 2 * np.sin(1.5 * X[:, 0]) + 3 * np.cos(2 * X[:, 1]) + 4 * X[:, 2]**2 + np.random.normal(0, 0.1, 1000)\n",
    "\n",
    "# Convert to DataFrame for better understanding\n",
    "df = pd.DataFrame(X, columns=['FBG1', 'FBG2', 'FBG3'])  # Features from 3 FBG sensors\n",
    "df['Wavelength Shift'] = wavelength_shift  # Simulated nonlinear wavelength shift\n",
    "\n",
    "# Display the first few rows of the data\n",
    "print(df.head())\n",
    "\n",
    "# Write the generated data to a CSV file\n",
    "df.to_csv('fbg_sensor_nonlinear_data.csv', index=False)\n",
    "\n",
    "print(\"Nonlinear data successfully written to 'fbg_sensor_nonlinear_data.csv'\")\n"
   ]
  },
  {
   "cell_type": "code",
   "execution_count": null,
   "id": "0800c1d3-521c-49b6-b2aa-14298d796ded",
   "metadata": {},
   "outputs": [],
   "source": []
  },
  {
   "cell_type": "markdown",
   "id": "915b1b79-801c-46e2-8377-fcb6703611a0",
   "metadata": {},
   "source": [
    "# Example 4: FBG Sensor Data with Different Conditions (Strain, Temperature, Pressure)"
   ]
  },
  {
   "cell_type": "code",
   "execution_count": 14,
   "id": "237ec276-ca6a-4b2c-974c-22cb5bd6a831",
   "metadata": {},
   "outputs": [],
   "source": [
    "# This example simulates sensor readings under different conditions like strain, temperature, and pressure."
   ]
  },
  {
   "cell_type": "code",
   "execution_count": 15,
   "id": "2cc5f78f-6a01-4b47-ad91-10a7589dedf2",
   "metadata": {},
   "outputs": [
    {
     "name": "stdout",
     "output_type": "stream",
     "text": [
      "       FBG1      FBG2      FBG3    Strain  Temperature  Pressure\n",
      "0  0.374540  0.950714  0.731994  2.516236     3.082810  3.949785\n",
      "1  0.598658  0.156019  0.155995  1.240875     0.528996  2.422328\n",
      "2  0.058084  0.866176  0.601115  1.853656     2.787971  2.566257\n",
      "3  0.708073  0.020584  0.969910  1.034980     1.025229  5.920212\n",
      "4  0.832443  0.212339  0.181825  1.733939     0.682982  3.244838\n",
      "Data successfully written to 'fbg_sensor_conditions_data.csv'\n"
     ]
    }
   ],
   "source": [
    "# Import necessary libraries\n",
    "import numpy as np\n",
    "import pandas as pd\n",
    "\n",
    "# Simulate FBG sensor data for 1000 samples with 3 sensors under different conditions\n",
    "np.random.seed(42)\n",
    "X = np.random.rand(1000, 3)  # Let's assume 3 features from 3 FBG sensors\n",
    "\n",
    "# Simulate different conditions (strain, temperature, pressure) as target variables\n",
    "strain = 1.5 * X[:, 0] + 2.0 * X[:, 1] + np.random.normal(0, 0.05, 1000)\n",
    "temperature = 2.5 * X[:, 1] + 1.0 * X[:, 2] + np.random.normal(0, 0.05, 1000)\n",
    "pressure = 3.0 * X[:, 0] + 4.0 * X[:, 2] + np.random.normal(0, 0.05, 1000)\n",
    "\n",
    "# Convert to DataFrame for better understanding\n",
    "df = pd.DataFrame(X, columns=['FBG1', 'FBG2', 'FBG3'])  # Features from 3 FBG sensors\n",
    "df['Strain'] = strain\n",
    "df['Temperature'] = temperature\n",
    "df['Pressure'] = pressure\n",
    "\n",
    "# Display the first few rows of the data\n",
    "print(df.head())\n",
    "\n",
    "# Write the generated data to a CSV file\n",
    "df.to_csv('fbg_sensor_conditions_data.csv', index=False)\n",
    "\n",
    "print(\"Data successfully written to 'fbg_sensor_conditions_data.csv'\")\n"
   ]
  },
  {
   "cell_type": "code",
   "execution_count": null,
   "id": "c0557a2b-89fa-4120-a46a-3dd155233848",
   "metadata": {},
   "outputs": [],
   "source": []
  },
  {
   "cell_type": "code",
   "execution_count": null,
   "id": "7950d044-c5e7-4adc-816e-7007da447906",
   "metadata": {},
   "outputs": [],
   "source": []
  }
 ],
 "metadata": {
  "kernelspec": {
   "display_name": "Python 3 (ipykernel)",
   "language": "python",
   "name": "python3"
  },
  "language_info": {
   "codemirror_mode": {
    "name": "ipython",
    "version": 3
   },
   "file_extension": ".py",
   "mimetype": "text/x-python",
   "name": "python",
   "nbconvert_exporter": "python",
   "pygments_lexer": "ipython3",
   "version": "3.11.7"
  }
 },
 "nbformat": 4,
 "nbformat_minor": 5
}
